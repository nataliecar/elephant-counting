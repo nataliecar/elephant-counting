{
 "cells": [
  {
   "cell_type": "code",
   "execution_count": 1,
   "metadata": {},
   "outputs": [],
   "source": [
    "import os\n",
    "import cv2\n",
    "import matplotlib.pyplot as plt\n",
    "import numpy as np\n",
    "%matplotlib inline"
   ]
  },
  {
   "cell_type": "code",
   "execution_count": 6,
   "metadata": {},
   "outputs": [
    {
     "name": "stdout",
     "output_type": "stream",
     "text": [
      "C:\\Users\\cardon\\OneDrive - Rensselaer Polytechnic Institute\\SEM7\\Conservation AI\\elephant-counting\\AED\n"
     ]
    }
   ],
   "source": [
    "%cd C:\\Users\\cardon\\OneDrive - Rensselaer Polytechnic Institute\\SEM7\\Conservation AI\\elephant-counting\\AED\n",
    "directory = os.getcwd()"
   ]
  },
  {
   "cell_type": "code",
   "execution_count": null,
   "metadata": {},
   "outputs": [],
   "source": [
    "images = []\n",
    "path = os.path.join(directory, \"training_images\")\n",
    "for filename in os.listdir(path):\n",
    "    filename = os.path.join(directory, \"training_images\", filename)\n",
    "    im = cv2.imread(filename)\n",
    "    images.append(im)\n",
    "np_im = np.array(images)\n",
    "print(np_im)   "
   ]
  },
  {
   "cell_type": "code",
   "execution_count": null,
   "metadata": {},
   "outputs": [],
   "source": []
  }
 ],
 "metadata": {
  "kernelspec": {
   "display_name": "Python 3",
   "language": "python",
   "name": "python3"
  },
  "language_info": {
   "codemirror_mode": {
    "name": "ipython",
    "version": 3
   },
   "file_extension": ".py",
   "mimetype": "text/x-python",
   "name": "python",
   "nbconvert_exporter": "python",
   "pygments_lexer": "ipython3",
   "version": "3.8.5"
  }
 },
 "nbformat": 4,
 "nbformat_minor": 4
}

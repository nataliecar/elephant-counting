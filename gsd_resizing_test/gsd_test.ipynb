{
 "cells": [
  {
   "cell_type": "code",
   "execution_count": 52,
   "id": "6f5d0b9e-a114-483e-9fc7-5c9f932ff08a",
   "metadata": {},
   "outputs": [],
   "source": [
    "import pandas as pd\n",
    "import numpy as np\n",
    "from PIL import Image"
   ]
  },
  {
   "cell_type": "code",
   "execution_count": 53,
   "id": "381df5f4-0337-43ec-ab69-a9cd61a25636",
   "metadata": {
    "scrolled": true
   },
   "outputs": [
    {
     "name": "stdout",
     "output_type": "stream",
     "text": [
      "                                 image name  sortie id  image width   \n",
      "0  2aada86263161acc6e207ea329759556d308458a         62         5472  \\\n",
      "1  8f30778719e5af075797f994273603c94f170e29         58         5472   \n",
      "2  4808725b78d40aa66681ad501c830d735f6b1314         58         5472   \n",
      "3  fcea4eb8b7a5366c5b751bd154e2109fc0f59ea8         33         5496   \n",
      "4  6a210373c943f674c84759c694dac4daba320a36         38         5496   \n",
      "5  dfdf0ad53e67816ae834b060ee84ca52f352b0d5         54         5525   \n",
      "6  a3044c98dd5281611d8a4d2f688d331f42757229         58         5472   \n",
      "7  878f052dd7639b59625c2e129241d32adadfe277         64         5472   \n",
      "8  1f2b5a52ee1fb08e508bd9db013802077fa3de8c         47         5521   \n",
      "9  8b1a6dead4e015f168627d466b5eab09aedbf90d         30         5496   \n",
      "\n",
      "   image height       GSD  measured altitude  terrain altitude  GPS Altitude  \n",
      "0          3648  0.045130             1606.9            1012.0        1606.9  \n",
      "1          3648  0.085419             1850.0             724.0        1850.0  \n",
      "2          3648  0.095721             1857.8             596.0        1857.8  \n",
      "3          3670  0.040893              198.8             547.0         743.7  \n",
      "4          3670  0.044573              203.4             960.0        1174.4  \n",
      "5          3690  0.123775             2261.6             630.0        2261.6  \n",
      "6          3648  0.098339             1880.3             584.0        1880.3  \n",
      "7          3648  0.039683             1606.1            1083.0        1606.1  \n",
      "8          3687  0.055341              613.8             841.0        1570.5  \n",
      "9          3670  0.042307              197.1             151.0         354.5  \n"
     ]
    }
   ],
   "source": [
    "aed_dir = \"AED/\"\n",
    "training_dir = aed_dir + \"training_images/\"\n",
    "sample_dir = \"sample_images/\"\n",
    "gsd_dir = \"same_gsd_images/\"\n",
    "df = pd.read_csv(aed_dir + \"training_images.csv\", nrows=10, header=None)\n",
    "df.columns = [\"image name\", \"sortie id\", \"image width\", \"image height\", \"GSD\", \"measured altitude\", \"terrain altitude\", \"GPS Altitude\"]\n",
    "print(df)"
   ]
  },
  {
   "cell_type": "code",
   "execution_count": 60,
   "id": "e13c2e81-b534-42a7-8dcb-58cead2f8616",
   "metadata": {},
   "outputs": [
    {
     "name": "stdout",
     "output_type": "stream",
     "text": [
      "0.123775\n"
     ]
    }
   ],
   "source": [
    "#Use maximum GSD as the desired GSD, so no images get bigger\n",
    "gsds = df['GSD'].to_numpy()\n",
    "max_gsd = np.max(gsds)\n",
    "print(max_gsd)"
   ]
  },
  {
   "cell_type": "code",
   "execution_count": 59,
   "id": "8c6632bc-0029-4447-a8e0-8054939a1029",
   "metadata": {
    "scrolled": true
   },
   "outputs": [
    {
     "name": "stdout",
     "output_type": "stream",
     "text": [
      "2aada86263161acc6e207ea329759556d308458a 5472 3648 1995 1330\n",
      "8f30778719e5af075797f994273603c94f170e29 5472 3648 3776 2517\n",
      "4808725b78d40aa66681ad501c830d735f6b1314 5472 3648 4231 2821\n",
      "fcea4eb8b7a5366c5b751bd154e2109fc0f59ea8 5496 3670 1815 1212\n",
      "6a210373c943f674c84759c694dac4daba320a36 5496 3670 1979 1321\n",
      "dfdf0ad53e67816ae834b060ee84ca52f352b0d5 5525 3690 5525 3690\n",
      "a3044c98dd5281611d8a4d2f688d331f42757229 5472 3648 4347 2898\n",
      "878f052dd7639b59625c2e129241d32adadfe277 5472 3648 1754 1169\n",
      "1f2b5a52ee1fb08e508bd9db013802077fa3de8c 5521 3687 2468 1648\n",
      "8b1a6dead4e015f168627d466b5eab09aedbf90d 5496 3670 1878 1254\n"
     ]
    }
   ],
   "source": [
    "for index, row in df.iterrows():\n",
    "    #Calculate new image size\n",
    "    image = row['image name']\n",
    "    gsd = row['GSD']\n",
    "    width = row[\"image width\"]\n",
    "    height = row[\"image height\"]\n",
    "    new_width = int((width * gsd) / max_gsd)\n",
    "    new_height = int((height * gsd) / max_gsd)\n",
    "    print(image, width, height, new_width, new_height)\n",
    "\n",
    "    #Save original image to sample folder, only needed this once\n",
    "    og_path = training_dir + image + \".jpg\"\n",
    "    img = Image.open(og_path)\n",
    "    #sample_path = sample_dir + image + \".jpg\"\n",
    "    #img.save(sample_path)\n",
    "\n",
    "    #Save resized images with same GSD\n",
    "    resized_img = img.resize((new_width, new_height))\n",
    "    new_path = gsd_dir + image + \".jpg\"\n",
    "    resized_img.save(new_path)"
   ]
  },
  {
   "cell_type": "code",
   "execution_count": null,
   "id": "14f81919-4ae8-4266-a856-7596bcbfa25e",
   "metadata": {},
   "outputs": [],
   "source": []
  }
 ],
 "metadata": {
  "kernelspec": {
   "display_name": "mykernel",
   "language": "python",
   "name": "mykernel"
  },
  "language_info": {
   "codemirror_mode": {
    "name": "ipython",
    "version": 3
   },
   "file_extension": ".py",
   "mimetype": "text/x-python",
   "name": "python",
   "nbconvert_exporter": "python",
   "pygments_lexer": "ipython3",
   "version": "3.8.15"
  }
 },
 "nbformat": 4,
 "nbformat_minor": 5
}

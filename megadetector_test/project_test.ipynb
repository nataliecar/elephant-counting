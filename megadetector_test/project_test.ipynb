{
 "cells": [
  {
   "cell_type": "code",
   "execution_count": 1,
   "id": "bdf770f5-1f46-4d87-9604-bb3ddffe2392",
   "metadata": {},
   "outputs": [],
   "source": [
    "import json\n",
    "from PIL import Image                                              \n",
    "import os"
   ]
  },
  {
   "cell_type": "code",
   "execution_count": 2,
   "id": "7319284d-4f71-4859-8fcb-4c7ca226b188",
   "metadata": {},
   "outputs": [],
   "source": [
    "images_dir = \"images\"\n",
    "output_path = \"results/test_output3.json\""
   ]
  },
  {
   "cell_type": "code",
   "execution_count": 18,
   "id": "48046227-9c5a-4d8c-b70f-5ae85d47d67a",
   "metadata": {},
   "outputs": [],
   "source": [
    "output_dir = \"resized_images\"\n",
    "image_size = (2500, 1500)\n",
    "\n",
    "os.makedirs(output_dir, exist_ok=True)\n",
    "\n",
    "for filename in os.listdir(images_dir):\n",
    "    if filename.endswith(('.jpg', '.jpeg', '.png', '.gif', '.bmp')):\n",
    "        # Open the image file\n",
    "        with Image.open(os.path.join(images_dir, filename)) as img:\n",
    "            # Resize the image to the desired size\n",
    "            img = img.resize(image_size)\n",
    "            \n",
    "            # Save the resized image to the output directory\n",
    "            img.save(os.path.join(output_dir, filename))"
   ]
  },
  {
   "cell_type": "code",
   "execution_count": 20,
   "id": "e0f0e1c4-fff1-4062-b11a-a3a77aa5a073",
   "metadata": {},
   "outputs": [
    {
     "name": "stdout",
     "output_type": "stream",
     "text": [
      "All images have been split into smaller sections.\n"
     ]
    }
   ],
   "source": [
    "# Specify the input directory containing the 2500x1500 images\n",
    "input_directory = output_dir\n",
    "\n",
    "# Create the output directory if it doesn't exist\n",
    "output_directory = 'output_sections'\n",
    "os.makedirs(output_directory, exist_ok=True)\n",
    "\n",
    "# Define the dimensions of the smaller sections\n",
    "section_width = 500\n",
    "section_height = 500\n",
    "\n",
    "# Function to split an image into sections\n",
    "def split_image(image, output_directory, i):\n",
    "    # Determine the number of rows and columns\n",
    "    rows = image.height // section_height\n",
    "    columns = image.width // section_width\n",
    "\n",
    "    for row in range(rows):\n",
    "        for col in range(columns):\n",
    "            # Define the coordinates of the section\n",
    "            left = col * section_width\n",
    "            upper = row * section_height\n",
    "            right = left + section_width\n",
    "            lower = upper + section_height\n",
    "\n",
    "            # Crop the section from the original image\n",
    "            section = image.crop((left, upper, right, lower))\n",
    "\n",
    "            # Save the section as a separate image\n",
    "            section.save(os.path.join(output_directory, f'image{i}_{row}_{col}.png'))\n",
    "\n",
    "# Process all images in the input directory\n",
    "i = 0\n",
    "for filename in os.listdir(input_directory):\n",
    "    if filename.endswith(('.jpg', '.jpeg', '.png', '.gif', '.bmp')):\n",
    "        # Open the image file\n",
    "        with Image.open(os.path.join(input_directory, filename)) as img:\n",
    "            # Split the image into sections\n",
    "            split_image(img, output_directory, i)\n",
    "            i += 1\n",
    "\n",
    "print(\"All images have been split into smaller sections.\")\n"
   ]
  },
  {
   "cell_type": "code",
   "execution_count": null,
   "id": "adf8956e-47de-403f-bf95-3677dcd82201",
   "metadata": {},
   "outputs": [],
   "source": [
    "!python \"$HOME/git/MegaDetector/detection/run_detector_batch.py\" \"$HOME/megadetector/md_v5a.0.0.pt\" \"output_sections\" \"results/test_output2.json\" --output_relative_filenames --recursive --checkpoint_frequency 10000"
   ]
  },
  {
   "cell_type": "code",
   "execution_count": 3,
   "id": "7ec86fb8-66d8-471f-9c64-21036331e49b",
   "metadata": {},
   "outputs": [],
   "source": [
    "f = open(output_path)\n",
    "md_results = json.load(f)"
   ]
  },
  {
   "cell_type": "code",
   "execution_count": 4,
   "id": "9ed007da-a163-400c-8527-6e638d982df7",
   "metadata": {},
   "outputs": [],
   "source": [
    "md_dict = {}\n",
    "for i in md_results['images']:\n",
    "    image_name = i['file']\n",
    "    detections = i['detections']\n",
    "    md_dict[image_name] = detections"
   ]
  },
  {
   "cell_type": "code",
   "execution_count": 2,
   "id": "b75210ee-dfc3-4af1-a11b-3da8964aec14",
   "metadata": {},
   "outputs": [
    {
     "name": "stdout",
     "output_type": "stream",
     "text": [
      "Using custom label mapping\n",
      "Detector output file contains 180 entries.\n",
      "Rendering detections above a confidence threshold of 0.3\n",
      "100%|█████████████████████████████████████████| 180/180 [00:33<00:00,  5.41it/s]\n",
      "Skipped 0 failed images (of 180)\n",
      "Skipped 0 missing images (of 180)\n",
      "Rendered detection results on 180 images, saved to visualize_images\n"
     ]
    }
   ],
   "source": [
    "!python \"$HOME/git/MegaDetector/md_visualization/visualize_detector_output.py\" \"results/test_output3.json\" \"visualize_images\" --confidence 0.3 --images_dir \"output_sections\""
   ]
  },
  {
   "cell_type": "code",
   "execution_count": null,
   "id": "8cede125-751d-4ba8-8359-01b305e4c126",
   "metadata": {},
   "outputs": [],
   "source": []
  }
 ],
 "metadata": {
  "kernelspec": {
   "display_name": "mykernel",
   "language": "python",
   "name": "mykernel"
  },
  "language_info": {
   "codemirror_mode": {
    "name": "ipython",
    "version": 3
   },
   "file_extension": ".py",
   "mimetype": "text/x-python",
   "name": "python",
   "nbconvert_exporter": "python",
   "pygments_lexer": "ipython3",
   "version": "3.8.15"
  }
 },
 "nbformat": 4,
 "nbformat_minor": 5
}
